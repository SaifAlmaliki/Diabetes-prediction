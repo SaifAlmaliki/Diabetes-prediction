{
  "nbformat": 4,
  "nbformat_minor": 0,
  "metadata": {
    "colab": {
      "name": "Diabetes prediction.ipynb",
      "provenance": [],
      "authorship_tag": "ABX9TyMmCnymnXBxXNEEnizkF8bn",
      "include_colab_link": true
    },
    "kernelspec": {
      "name": "python3",
      "display_name": "Python 3"
    }
  },
  "cells": [
    {
      "cell_type": "markdown",
      "metadata": {
        "id": "view-in-github",
        "colab_type": "text"
      },
      "source": [
        "<a href=\"https://colab.research.google.com/github/SaifAlmaliki/Diabetes-prediction/blob/main/Diabetes_prediction.ipynb\" target=\"_parent\"><img src=\"https://colab.research.google.com/assets/colab-badge.svg\" alt=\"Open In Colab\"/></a>"
      ]
    },
    {
      "cell_type": "code",
      "metadata": {
        "id": "yIz7wrHrncVa"
      },
      "source": [
        "import numpy as np\n",
        "import pandas as pd\n",
        "import matplotlib.pyplot as plt\n",
        "from keras.models import Sequential\n",
        "from keras.layers import Dense\n",
        "from keras.callbacks import ModelCheckpoint"
      ],
      "execution_count": 32,
      "outputs": []
    },
    {
      "cell_type": "markdown",
      "metadata": {
        "id": "q4EPqoxxoCC7"
      },
      "source": [
        "**Read CSV file**"
      ]
    },
    {
      "cell_type": "code",
      "metadata": {
        "id": "YH6HJdMXn8Td"
      },
      "source": [
        "data = pd.read_csv('diabetes.csv')"
      ],
      "execution_count": 33,
      "outputs": []
    },
    {
      "cell_type": "markdown",
      "metadata": {
        "id": "uY4XQGtDoUZB"
      },
      "source": [
        "**Preprocessing**\n",
        "\n",
        "Remove 0's etrires from our dataset in these filed"
      ]
    },
    {
      "cell_type": "code",
      "metadata": {
        "id": "HZT0yp9KoUgR"
      },
      "source": [
        ""
      ],
      "execution_count": 33,
      "outputs": []
    },
    {
      "cell_type": "markdown",
      "metadata": {
        "id": "5_ajrCLlqqEM"
      },
      "source": [
        "Buid a function to calculate the 0's in the fields"
      ]
    },
    {
      "cell_type": "code",
      "metadata": {
        "id": "UiXM9F3UpE7p"
      },
      "source": [
        "zero_fields = ['Glucose', 'BloodPressure', 'SkinThickness', 'Insulin', 'BMI', 'Age']\n",
        "\n",
        "def check_zero_entries(data, fields):\n",
        "    # list number of 0 entries in each given field\n",
        "    for f in fields:\n",
        "      print('Field %s has %d zeros' %(f, len(data.loc[data[f] == 0, f])))"
      ],
      "execution_count": 34,
      "outputs": []
    },
    {
      "cell_type": "code",
      "metadata": {
        "id": "h2nEvo-IqTj9",
        "outputId": "3046709b-5aa0-4eb9-f40b-7774efa9d039",
        "colab": {
          "base_uri": "https://localhost:8080/",
          "height": 119
        }
      },
      "source": [
        "# check zero entries\n",
        "check_zero_entries(data, zero_fields)"
      ],
      "execution_count": 35,
      "outputs": [
        {
          "output_type": "stream",
          "text": [
            "Field Glucose has 5 zeros\n",
            "Field BloodPressure has 35 zeros\n",
            "Field SkinThickness has 227 zeros\n",
            "Field Insulin has 374 zeros\n",
            "Field BMI has 11 zeros\n",
            "Field Age has 0 zeros\n"
          ],
          "name": "stdout"
        }
      ]
    },
    {
      "cell_type": "markdown",
      "metadata": {
        "id": "yPWfgLQiq6Iz"
      },
      "source": [
        "Split data to train/test"
      ]
    },
    {
      "cell_type": "code",
      "metadata": {
        "id": "PkrcgQUaq6TB",
        "outputId": "c309bb3c-7baf-4a01-9961-639ba0063a02",
        "colab": {
          "base_uri": "https://localhost:8080/",
          "height": 54
        }
      },
      "source": [
        "from sklearn.model_selection import train_test_split\n",
        "\n",
        "# collect column names for features\n",
        "features = list(data.columns.values)\n",
        "\n",
        "# exclude the 'Outcome' column which is the label\n",
        "features.remove('Outcome')\n",
        "\n",
        "print('Features:', features)\n",
        "\n",
        "x = data[features]\n",
        "y = data['Outcome']"
      ],
      "execution_count": 36,
      "outputs": [
        {
          "output_type": "stream",
          "text": [
            "Features: ['Pregnancies', 'Glucose', 'BloodPressure', 'SkinThickness', 'Insulin', 'BMI', 'DiabetesPedigreeFunction', 'Age']\n"
          ],
          "name": "stdout"
        }
      ]
    },
    {
      "cell_type": "markdown",
      "metadata": {
        "id": "jU_FPBHhsEyz"
      },
      "source": [
        "**Fix zero fields with mean**\n",
        "\n",
        "fix the 0-entry for a field in the dataset with its avg value"
      ]
    },
    {
      "cell_type": "code",
      "metadata": {
        "id": "F3GcXR4qsE7p"
      },
      "source": [
        "def impute_zero_fields(data, field):\n",
        "    \n",
        "    non_zero_values = data.loc[data[field] != 0, field]\n",
        "    \n",
        "    # calculate mean()\n",
        "    avg = np.sum(non_zero_values) / len(non_zero_values)\n",
        "\n",
        "    # replace the zeros with mean value\n",
        "    data.loc[data[field] == 0, field ] = avg \n",
        "\n",
        "    print('Zeros in Field %s : fixed with value: %.2f' %(field, avg))"
      ],
      "execution_count": 37,
      "outputs": []
    },
    {
      "cell_type": "markdown",
      "metadata": {
        "id": "xI4OOR2CvxGu"
      },
      "source": [
        "Apply our function for the train set only (x_train)"
      ]
    },
    {
      "cell_type": "code",
      "metadata": {
        "id": "0OdE1DA9vxOb",
        "outputId": "8b6dfa19-33a8-4f59-d7cc-4561144f3558",
        "colab": {
          "base_uri": "https://localhost:8080/",
          "height": 751
        }
      },
      "source": [
        "# split our data to train/test\n",
        "x_train, x_test, y_train, y_test = train_test_split(x, y, test_size = 0.25, random_state = 0)\n",
        "\n",
        "for f in zero_fields:\n",
        "    impute_zero_fields(x_train, f)"
      ],
      "execution_count": 38,
      "outputs": [
        {
          "output_type": "stream",
          "text": [
            "Zeros in Field Glucose : fixed with value: 122.00\n",
            "Zeros in Field BloodPressure : fixed with value: 72.85\n",
            "Zeros in Field SkinThickness : fixed with value: 29.46\n",
            "Zeros in Field Insulin : fixed with value: 158.46\n",
            "Zeros in Field BMI : fixed with value: 32.66\n",
            "Zeros in Field Age : fixed with value: 33.58\n"
          ],
          "name": "stdout"
        },
        {
          "output_type": "stream",
          "text": [
            "/usr/local/lib/python3.6/dist-packages/pandas/core/indexing.py:1765: SettingWithCopyWarning: \n",
            "A value is trying to be set on a copy of a slice from a DataFrame.\n",
            "Try using .loc[row_indexer,col_indexer] = value instead\n",
            "\n",
            "See the caveats in the documentation: https://pandas.pydata.org/pandas-docs/stable/user_guide/indexing.html#returning-a-view-versus-a-copy\n",
            "  isetter(loc, value)\n",
            "/usr/local/lib/python3.6/dist-packages/pandas/core/indexing.py:1765: SettingWithCopyWarning: \n",
            "A value is trying to be set on a copy of a slice from a DataFrame.\n",
            "Try using .loc[row_indexer,col_indexer] = value instead\n",
            "\n",
            "See the caveats in the documentation: https://pandas.pydata.org/pandas-docs/stable/user_guide/indexing.html#returning-a-view-versus-a-copy\n",
            "  isetter(loc, value)\n",
            "/usr/local/lib/python3.6/dist-packages/pandas/core/indexing.py:1765: SettingWithCopyWarning: \n",
            "A value is trying to be set on a copy of a slice from a DataFrame.\n",
            "Try using .loc[row_indexer,col_indexer] = value instead\n",
            "\n",
            "See the caveats in the documentation: https://pandas.pydata.org/pandas-docs/stable/user_guide/indexing.html#returning-a-view-versus-a-copy\n",
            "  isetter(loc, value)\n",
            "/usr/local/lib/python3.6/dist-packages/pandas/core/indexing.py:1765: SettingWithCopyWarning: \n",
            "A value is trying to be set on a copy of a slice from a DataFrame.\n",
            "Try using .loc[row_indexer,col_indexer] = value instead\n",
            "\n",
            "See the caveats in the documentation: https://pandas.pydata.org/pandas-docs/stable/user_guide/indexing.html#returning-a-view-versus-a-copy\n",
            "  isetter(loc, value)\n",
            "/usr/local/lib/python3.6/dist-packages/pandas/core/indexing.py:1765: SettingWithCopyWarning: \n",
            "A value is trying to be set on a copy of a slice from a DataFrame.\n",
            "Try using .loc[row_indexer,col_indexer] = value instead\n",
            "\n",
            "See the caveats in the documentation: https://pandas.pydata.org/pandas-docs/stable/user_guide/indexing.html#returning-a-view-versus-a-copy\n",
            "  isetter(loc, value)\n",
            "/usr/local/lib/python3.6/dist-packages/pandas/core/indexing.py:1765: SettingWithCopyWarning: \n",
            "A value is trying to be set on a copy of a slice from a DataFrame.\n",
            "Try using .loc[row_indexer,col_indexer] = value instead\n",
            "\n",
            "See the caveats in the documentation: https://pandas.pydata.org/pandas-docs/stable/user_guide/indexing.html#returning-a-view-versus-a-copy\n",
            "  isetter(loc, value)\n"
          ],
          "name": "stderr"
        }
      ]
    },
    {
      "cell_type": "markdown",
      "metadata": {
        "id": "AICgCBAGwXeY"
      },
      "source": [
        "Double check for the **Train** data after applying the imputation"
      ]
    },
    {
      "cell_type": "code",
      "metadata": {
        "id": "B8SbfCvgwN8O",
        "outputId": "f12f5667-153f-43c2-d27b-3a25b32e51f4",
        "colab": {
          "base_uri": "https://localhost:8080/",
          "height": 119
        }
      },
      "source": [
        "check_zero_entries(x_train, zero_fields)"
      ],
      "execution_count": 39,
      "outputs": [
        {
          "output_type": "stream",
          "text": [
            "Field Glucose has 0 zeros\n",
            "Field BloodPressure has 0 zeros\n",
            "Field SkinThickness has 0 zeros\n",
            "Field Insulin has 0 zeros\n",
            "Field BMI has 0 zeros\n",
            "Field Age has 0 zeros\n"
          ],
          "name": "stdout"
        }
      ]
    },
    {
      "cell_type": "markdown",
      "metadata": {
        "id": "L0QGQ0eqw-Fz"
      },
      "source": [
        "Check for the **Test** data for zeros"
      ]
    },
    {
      "cell_type": "code",
      "metadata": {
        "id": "2bOs6-h_w-Kk",
        "outputId": "8c3b4185-df2d-4481-a8fc-c93bdcbe63f5",
        "colab": {
          "base_uri": "https://localhost:8080/",
          "height": 119
        }
      },
      "source": [
        "check_zero_entries(x_test, zero_fields)"
      ],
      "execution_count": 40,
      "outputs": [
        {
          "output_type": "stream",
          "text": [
            "Field Glucose has 1 zeros\n",
            "Field BloodPressure has 10 zeros\n",
            "Field SkinThickness has 64 zeros\n",
            "Field Insulin has 104 zeros\n",
            "Field BMI has 3 zeros\n",
            "Field Age has 0 zeros\n"
          ],
          "name": "stdout"
        }
      ]
    },
    {
      "cell_type": "code",
      "metadata": {
        "id": "LCmP4aUGxbZx"
      },
      "source": [
        "# Remove field header name before traiing\n",
        "\n",
        "x_train = x_train.values\n",
        "y_train = y_train.values\n",
        "x_test  = x_test.values\n",
        "y_test  = y_test"
      ],
      "execution_count": 41,
      "outputs": []
    },
    {
      "cell_type": "markdown",
      "metadata": {
        "id": "4eKEULKRyGLT"
      },
      "source": [
        "**Apply Deep Learning**"
      ]
    },
    {
      "cell_type": "code",
      "metadata": {
        "id": "aEoq4x1IyDVn"
      },
      "source": [
        "epochs = 1000\n",
        "batch_size = 16\n",
        "\n",
        "model = Sequential()\n",
        "\n",
        "model.add(Dense(12, \n",
        "                input_dim=8, \n",
        "                kernel_initializer='random_uniform', \n",
        "                activation='relu'))\n",
        "\n",
        "model.add(Dense(8, \n",
        "                kernel_initializer='random_uniform',\n",
        "                activation='relu'))\n",
        "\n",
        "model.add(Dense(1, \n",
        "                kernel_initializer='random_uniform',\n",
        "                activation='sigmoid'))\n",
        "\n",
        "model.compile(loss='binary_crossentropy',\n",
        "              optimizer='adam',\n",
        "              metrics=['accuracy'])"
      ],
      "execution_count": 42,
      "outputs": []
    },
    {
      "cell_type": "markdown",
      "metadata": {
        "id": "HXHPj8O00KKy"
      },
      "source": [
        "**Create Checkpoint to store the best model**"
      ]
    },
    {
      "cell_type": "code",
      "metadata": {
        "id": "vzjsklbk0KT3",
        "outputId": "aa7fcc72-eb13-4564-dd6b-7edcc200fad5",
        "colab": {
          "base_uri": "https://localhost:8080/",
          "height": 255
        }
      },
      "source": [
        "ckpt_model = 'pima-weights.best-hdf5'\n",
        "checkpoint = ModelCheckpoint(ckpt_model,\n",
        "                             monitor='val_accuracy',\n",
        "                             save_best_only=True,\n",
        "                             mode='max')\n",
        "\n",
        "callback_list=[checkpoint]\n",
        "\n",
        "print('starting training ...')\n",
        "\n",
        "# train the model and store the results for plotting\n",
        "his = model.fit(x_train, \n",
        "                y_train, \n",
        "                validation_data=(x_test, y_test),\n",
        "                epochs = epochs,\n",
        "                batch_size=batch_size,\n",
        "                callbacks= callback_list,\n",
        "                verbose = 0)"
      ],
      "execution_count": 43,
      "outputs": [
        {
          "output_type": "stream",
          "text": [
            "starting training ...\n",
            "INFO:tensorflow:Assets written to: pima-weights.best-hdf5/assets\n",
            "INFO:tensorflow:Assets written to: pima-weights.best-hdf5/assets\n",
            "INFO:tensorflow:Assets written to: pima-weights.best-hdf5/assets\n",
            "INFO:tensorflow:Assets written to: pima-weights.best-hdf5/assets\n",
            "INFO:tensorflow:Assets written to: pima-weights.best-hdf5/assets\n",
            "INFO:tensorflow:Assets written to: pima-weights.best-hdf5/assets\n",
            "INFO:tensorflow:Assets written to: pima-weights.best-hdf5/assets\n",
            "INFO:tensorflow:Assets written to: pima-weights.best-hdf5/assets\n",
            "INFO:tensorflow:Assets written to: pima-weights.best-hdf5/assets\n",
            "INFO:tensorflow:Assets written to: pima-weights.best-hdf5/assets\n",
            "INFO:tensorflow:Assets written to: pima-weights.best-hdf5/assets\n",
            "INFO:tensorflow:Assets written to: pima-weights.best-hdf5/assets\n",
            "INFO:tensorflow:Assets written to: pima-weights.best-hdf5/assets\n"
          ],
          "name": "stdout"
        }
      ]
    },
    {
      "cell_type": "markdown",
      "metadata": {
        "id": "WTEChSRI3RGH"
      },
      "source": [
        "**Plot accuracy**"
      ]
    },
    {
      "cell_type": "code",
      "metadata": {
        "id": "CzgEk0Y42QFk",
        "outputId": "c0d21a10-33a4-4aa4-de34-eb7baaf6bcab",
        "colab": {
          "base_uri": "https://localhost:8080/",
          "height": 587
        }
      },
      "source": [
        "\n",
        "plt.plot(his.history['accuracy'])\n",
        "plt.plot(his.history['val_accuracy'])\n",
        "plt.title('Model accuracy')\n",
        "plt.ylabel('accuracy')\n",
        "plt.xlabel('epochs')\n",
        "plt.legend(\"Train\", \"Test\")\n",
        "plt.show()"
      ],
      "execution_count": 44,
      "outputs": [
        {
          "output_type": "stream",
          "text": [
            "/usr/local/lib/python3.6/dist-packages/ipykernel_launcher.py:7: UserWarning: Legend does not support 'T' instances.\n",
            "A proxy artist may be used instead.\n",
            "See: http://matplotlib.org/users/legend_guide.html#creating-artists-specifically-for-adding-to-the-legend-aka-proxy-artists\n",
            "  import sys\n",
            "/usr/local/lib/python3.6/dist-packages/ipykernel_launcher.py:7: UserWarning: Legend does not support 'r' instances.\n",
            "A proxy artist may be used instead.\n",
            "See: http://matplotlib.org/users/legend_guide.html#creating-artists-specifically-for-adding-to-the-legend-aka-proxy-artists\n",
            "  import sys\n",
            "/usr/local/lib/python3.6/dist-packages/ipykernel_launcher.py:7: UserWarning: Legend does not support 'a' instances.\n",
            "A proxy artist may be used instead.\n",
            "See: http://matplotlib.org/users/legend_guide.html#creating-artists-specifically-for-adding-to-the-legend-aka-proxy-artists\n",
            "  import sys\n",
            "/usr/local/lib/python3.6/dist-packages/ipykernel_launcher.py:7: UserWarning: Legend does not support 'i' instances.\n",
            "A proxy artist may be used instead.\n",
            "See: http://matplotlib.org/users/legend_guide.html#creating-artists-specifically-for-adding-to-the-legend-aka-proxy-artists\n",
            "  import sys\n"
          ],
          "name": "stderr"
        },
        {
          "output_type": "display_data",
          "data": {
            "image/png": "[encoded data removed]",
            "text/plain": [
              "<Figure size 432x288 with 1 Axes>"
            ]
          },
          "metadata": {
            "tags": [],
            "needs_background": "light"
          }
        }
      ]
    },
    {
      "cell_type": "markdown",
      "metadata": {
        "id": "SRw-VaMm3N5T"
      },
      "source": [
        "**Plot loss**"
      ]
    },
    {
      "cell_type": "code",
      "metadata": {
        "id": "qIaAlsuV3ODT",
        "outputId": "7d7d6dd7-b581-46cd-b496-bacc1a1f2ad2",
        "colab": {
          "base_uri": "https://localhost:8080/",
          "height": 587
        }
      },
      "source": [
        "plt.plot(his.history['loss'])\n",
        "plt.plot(his.history['val_loss'])\n",
        "plt.title('Model loss')\n",
        "plt.ylabel('loss')\n",
        "plt.xlabel('epochs')\n",
        "plt.legend(\"Train\", \"Test\")\n",
        "plt.show()"
      ],
      "execution_count": 45,
      "outputs": [
        {
          "output_type": "stream",
          "text": [
            "/usr/local/lib/python3.6/dist-packages/ipykernel_launcher.py:6: UserWarning: Legend does not support 'T' instances.\n",
            "A proxy artist may be used instead.\n",
            "See: http://matplotlib.org/users/legend_guide.html#creating-artists-specifically-for-adding-to-the-legend-aka-proxy-artists\n",
            "  \n",
            "/usr/local/lib/python3.6/dist-packages/ipykernel_launcher.py:6: UserWarning: Legend does not support 'r' instances.\n",
            "A proxy artist may be used instead.\n",
            "See: http://matplotlib.org/users/legend_guide.html#creating-artists-specifically-for-adding-to-the-legend-aka-proxy-artists\n",
            "  \n",
            "/usr/local/lib/python3.6/dist-packages/ipykernel_launcher.py:6: UserWarning: Legend does not support 'a' instances.\n",
            "A proxy artist may be used instead.\n",
            "See: http://matplotlib.org/users/legend_guide.html#creating-artists-specifically-for-adding-to-the-legend-aka-proxy-artists\n",
            "  \n",
            "/usr/local/lib/python3.6/dist-packages/ipykernel_launcher.py:6: UserWarning: Legend does not support 'i' instances.\n",
            "A proxy artist may be used instead.\n",
            "See: http://matplotlib.org/users/legend_guide.html#creating-artists-specifically-for-adding-to-the-legend-aka-proxy-artists\n",
            "  \n"
          ],
          "name": "stderr"
        },
        {
          "output_type": "display_data",
          "data": {
            "image/png": "[encoded data removed]",
            "text/plain": [
              "<Figure size 432x288 with 1 Axes>"
            ]
          },
          "metadata": {
            "tags": [],
            "needs_background": "light"
          }
        }
      ]
    },
    {
      "cell_type": "code",
      "metadata": {
        "id": "yWGX45XK3m2z",
        "outputId": "aa58acb2-518c-46b9-80a8-2aed730c5b18",
        "colab": {
          "base_uri": "https://localhost:8080/",
          "height": 51
        }
      },
      "source": [
        "score = model.evaluate(x_train, y_train)\n",
        "print(\"Accuracy: \" , score[1] *100)"
      ],
      "execution_count": 46,
      "outputs": [
        {
          "output_type": "stream",
          "text": [
            "18/18 [==============================] - 0s 1ms/step - loss: 0.4275 - accuracy: 0.8056\n",
            "Accuracy:  80.55555820465088\n"
          ],
          "name": "stdout"
        }
      ]
    },
    {
      "cell_type": "markdown",
      "metadata": {
        "id": "ypFVlRBN4nrP"
      },
      "source": [
        "**Apply Random Forest Classifier**"
      ]
    },
    {
      "cell_type": "code",
      "metadata": {
        "id": "6U4EBJcd4msm",
        "outputId": "50bddcd5-6313-4e8c-9f33-9aca82419739",
        "colab": {
          "base_uri": "https://localhost:8080/",
          "height": 68
        }
      },
      "source": [
        "from sklearn.ensemble import RandomForestClassifier\n",
        "from sklearn.model_selection import train_test_split\n",
        "from sklearn.metrics import classification_report, confusion_matrix\n",
        "\n",
        "\n",
        "classifier =RandomForestClassifier(n_estimators = 6,\n",
        "                                   criterion = 'entropy',\n",
        "                                   random_state = 0)\n",
        "classifier.fit(x_train, y_train)\n",
        "\n",
        "# Prediction\n",
        "y_pred = classifier.predict(x_test)\n",
        "\n",
        "# calculate CM\n",
        "cm =confusion_matrix(y_test, y_pred)\n",
        "print(cm)\n",
        "print(\"Accuracy: \", classifier.score(x_test, y_test)*100)"
      ],
      "execution_count": 57,
      "outputs": [
        {
          "output_type": "stream",
          "text": [
            "[[111  19]\n",
            " [ 33  29]]\n",
            "Accuracy:  72.91666666666666\n"
          ],
          "name": "stdout"
        }
      ]
    },
    {
      "cell_type": "code",
      "metadata": {
        "id": "YS3a-u9B6ycf",
        "outputId": "1a50c00e-565b-4340-c963-55ed9db7a3e7",
        "colab": {
          "base_uri": "https://localhost:8080/",
          "height": 502
        }
      },
      "source": [
        "# Draw Confusion matrix in stylish design\n",
        "\n",
        "!pip install scikit-plot\n",
        "\n",
        "import scikitplot as skplt\n",
        "import matplotlib.pyplot as plt\n",
        "\n",
        "skplt.metrics.plot_confusion_matrix(y_test, y_pred, normalize=False)\n",
        "plt.show()"
      ],
      "execution_count": 61,
      "outputs": [
        {
          "output_type": "stream",
          "text": [
            "Requirement already satisfied: scikit-plot in /usr/local/lib/python3.6/dist-packages (0.3.7)\n",
            "Requirement already satisfied: matplotlib>=1.4.0 in /usr/local/lib/python3.6/dist-packages (from scikit-plot) (3.2.2)\n",
            "Requirement already satisfied: scikit-learn>=0.18 in /usr/local/lib/python3.6/dist-packages (from scikit-plot) (0.22.2.post1)\n",
            "Requirement already satisfied: scipy>=0.9 in /usr/local/lib/python3.6/dist-packages (from scikit-plot) (1.4.1)\n",
            "Requirement already satisfied: joblib>=0.10 in /usr/local/lib/python3.6/dist-packages (from scikit-plot) (0.16.0)\n",
            "Requirement already satisfied: kiwisolver>=1.0.1 in /usr/local/lib/python3.6/dist-packages (from matplotlib>=1.4.0->scikit-plot) (1.2.0)\n",
            "Requirement already satisfied: cycler>=0.10 in /usr/local/lib/python3.6/dist-packages (from matplotlib>=1.4.0->scikit-plot) (0.10.0)\n",
            "Requirement already satisfied: pyparsing!=2.0.4,!=2.1.2,!=2.1.6,>=2.0.1 in /usr/local/lib/python3.6/dist-packages (from matplotlib>=1.4.0->scikit-plot) (2.4.7)\n",
            "Requirement already satisfied: numpy>=1.11 in /usr/local/lib/python3.6/dist-packages (from matplotlib>=1.4.0->scikit-plot) (1.18.5)\n",
            "Requirement already satisfied: python-dateutil>=2.1 in /usr/local/lib/python3.6/dist-packages (from matplotlib>=1.4.0->scikit-plot) (2.8.1)\n",
            "Requirement already satisfied: six in /usr/local/lib/python3.6/dist-packages (from cycler>=0.10->matplotlib>=1.4.0->scikit-plot) (1.15.0)\n"
          ],
          "name": "stdout"
        },
        {
          "output_type": "display_data",
          "data": {
            "image/png": "[encoded data removed]",
            "text/plain": [
              "<Figure size 432x288 with 2 Axes>"
            ]
          },
          "metadata": {
            "tags": [],
            "needs_background": "light"
          }
        }
      ]
    },
    {
      "cell_type": "code",
      "metadata": {
        "id": "E_mAFkVb71YT",
        "outputId": "da7a488c-a4a1-48fe-8e29-e7b4a2ec9354",
        "colab": {
          "base_uri": "https://localhost:8080/",
          "height": 51
        }
      },
      "source": [
        "# predict our classifier with new unseen data\n",
        "print(\"The new prediction: \", classifier.predict(np.array([[6,142,72,45,0,38.6,0.627,50]])))\n",
        "\n",
        "# one more prediction\n",
        "print(\"The new prediction: \", classifier.predict(np.array([[1,109,30,38,83,53.5,0.193,33]])))"
      ],
      "execution_count": 71,
      "outputs": [
        {
          "output_type": "stream",
          "text": [
            "The new prediction:  [1]\n",
            "The new prediction:  [0]\n"
          ],
          "name": "stdout"
        }
      ]
    }
  ]
}